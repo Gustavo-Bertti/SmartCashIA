{
 "cells": [
  {
   "cell_type": "code",
   "execution_count": 20,
   "metadata": {},
   "outputs": [
    {
     "name": "stdout",
     "output_type": "stream",
     "text": [
      "              precision    recall  f1-score   support\n",
      "\n",
      "           0       0.87      0.81      0.84      1540\n",
      "           1       0.81      0.86      0.83      1407\n",
      "\n",
      "    accuracy                           0.84      2947\n",
      "   macro avg       0.84      0.84      0.84      2947\n",
      "weighted avg       0.84      0.84      0.84      2947\n",
      "\n"
     ]
    }
   ],
   "source": [
    "# import de bibliotecas necessárias para o treinamento\n",
    "import pandas as pd\n",
    "from imblearn.over_sampling import SMOTE\n",
    "from sklearn.ensemble import RandomForestClassifier\n",
    "from sklearn.model_selection import train_test_split\n",
    "from sklearn.metrics import classification_report\n",
    "\n",
    "# Carrega o arquivo CSV para um DataFrame\n",
    "df = pd.read_csv('./dadosEmpresas.csv')\n",
    "\n",
    "# Adiciona a coluna 'nomeFantasia' (ou o nome da empresa correspondente) ao DataFrame\n",
    "if 'nomeFantasia' not in df.columns:\n",
    "    raise ValueError(\"A coluna 'nomeFantasia' não está presente no DataFrame.\")\n",
    "\n",
    "# Seleciona as colunas de interesse: endividamento, passivoCirculante, faturamentoBruto\n",
    "colunas_interesse = ['endividamento', 'passivoCirculante', 'faturamentoBruto']\n",
    "\n",
    "# Remove valores nulos dessas colunas\n",
    "df = df.dropna(subset=colunas_interesse)\n",
    "\n",
    "# Define as colunas de entrada (X) e a coluna-alvo (target - simulação de risco: 0 para baixo risco, 1 para alto risco)\n",
    "X = df[colunas_interesse]\n",
    "y = (df['maiorAtraso'] > 30).astype(int)  # Exemplo: empresas com maior atraso > 30 dias são classificadas como risco\n",
    "\n",
    "# Aplica o SMOTE para balancear as classes\n",
    "smote = SMOTE(random_state=42)\n",
    "X_resampled, y_resampled = smote.fit_resample(X, y)\n",
    "\n",
    "# Divide os dados em conjunto de treinamento e teste\n",
    "X_train, X_test, y_train, y_test = train_test_split(X_resampled, y_resampled, test_size=0.2, random_state=42)\n",
    "\n",
    "# Inicializa e treina o modelo RandomForestClassifier\n",
    "clf = RandomForestClassifier(random_state=42)\n",
    "clf.fit(X_train, y_train)\n",
    "\n",
    "# Avalia o modelo\n",
    "y_pred = clf.predict(X_test)\n",
    "print(classification_report(y_test, y_pred))\n",
    "\n",
    "# Adiciona a coluna 'previsao_risco' ao DataFrame original\n",
    "df['previsao_risco'] = clf.predict(X)\n",
    "\n",
    "# Seleciona apenas as colunas 'nomeFantasia' e 'previsao_risco' para o arquivo final\n",
    "resultado_final = df[['nomeFantasia', 'previsao_risco']]\n",
    "\n",
    "# Salva o resultado final em um arquivo CSV\n",
    "resultado_final.to_csv('previsao_risco_final.csv', index=False)\n"
   ]
  }
 ],
 "metadata": {
  "kernelspec": {
   "display_name": "Python 3",
   "language": "python",
   "name": "python3"
  },
  "language_info": {
   "codemirror_mode": {
    "name": "ipython",
    "version": 3
   },
   "file_extension": ".py",
   "mimetype": "text/x-python",
   "name": "python",
   "nbconvert_exporter": "python",
   "pygments_lexer": "ipython3",
   "version": "3.12.6"
  }
 },
 "nbformat": 4,
 "nbformat_minor": 2
}
